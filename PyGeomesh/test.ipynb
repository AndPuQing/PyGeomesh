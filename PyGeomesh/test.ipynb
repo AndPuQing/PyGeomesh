{
 "cells": [
  {
   "cell_type": "code",
   "execution_count": 1,
   "metadata": {
    "collapsed": true,
    "pycharm": {
     "name": "#%%\n"
    }
   },
   "outputs": [],
   "source": [
    "import pygeomesh as pym"
   ]
  },
  {
   "cell_type": "code",
   "execution_count": 2,
   "outputs": [],
   "source": [
    "class MyGeom(pym.Geometry):\n",
    "    def __init__(self):\n",
    "        super().__init__()\n",
    "        self.add_box([0.0, 0.0, 0.0], [1, 2, 3], mesh_size=0.1)"
   ],
   "metadata": {
    "collapsed": false,
    "pycharm": {
     "name": "#%%\n"
    }
   }
  },
  {
   "cell_type": "code",
   "execution_count": 3,
   "outputs": [
    {
     "name": "stdout",
     "output_type": "stream",
     "text": [
      "<meshio mesh object>\n",
      "  Number of points: 5833\n",
      "  Number of cells:\n",
      "    line: 240\n",
      "    triangle: 5218\n",
      "    tetra: 27854\n",
      "    vertex: 8\n"
     ]
    }
   ],
   "source": [
    "my_geom = MyGeom()\n",
    "my_geom.synchronize()\n",
    "mesh = my_geom.generate_mesh(3)\n",
    "print(mesh)"
   ],
   "metadata": {
    "collapsed": false,
    "pycharm": {
     "name": "#%%\n"
    }
   }
  }
 ],
 "metadata": {
  "kernelspec": {
   "display_name": "Python 3",
   "language": "python",
   "name": "python3"
  },
  "language_info": {
   "codemirror_mode": {
    "name": "ipython",
    "version": 2
   },
   "file_extension": ".py",
   "mimetype": "text/x-python",
   "name": "python",
   "nbconvert_exporter": "python",
   "pygments_lexer": "ipython2",
   "version": "2.7.6"
  }
 },
 "nbformat": 4,
 "nbformat_minor": 0
}