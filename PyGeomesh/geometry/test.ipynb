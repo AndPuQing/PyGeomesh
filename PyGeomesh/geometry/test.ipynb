{
 "cells": [
  {
   "cell_type": "code",
   "execution_count": 1,
   "metadata": {},
   "outputs": [
    {
     "name": "stdout",
     "output_type": "stream",
     "text": [
      "[]\n",
      "wh\n",
      "[]\n"
     ]
    }
   ],
   "source": [
    "import pygeomesh\n",
    "import gmsh\n",
    "\n",
    "\n",
    "class Mygeom(pygeomesh.Geometry):\n",
    "\n",
    "    def __new__(cls):\n",
    "        return super().__new__(cls)\n",
    "\n",
    "    def __init__(self):\n",
    "        print(\"wh\")\n",
    "        print(gmsh.model.list())\n",
    "\n",
    "\n",
    "geom = Mygeom()"
   ]
  }
 ],
 "metadata": {
  "kernelspec": {
   "display_name": "Python 3.9.6 ('deeplearning')",
   "language": "python",
   "name": "python3"
  },
  "language_info": {
   "codemirror_mode": {
    "name": "ipython",
    "version": 3
   },
   "file_extension": ".py",
   "mimetype": "text/x-python",
   "name": "python",
   "nbconvert_exporter": "python",
   "pygments_lexer": "ipython3",
   "version": "3.9.6"
  },
  "orig_nbformat": 4,
  "vscode": {
   "interpreter": {
    "hash": "60a5f2f6f0a18c7133d237a6e89842b975ec8f80a9896a843bfcb824e40c8026"
   }
  }
 },
 "nbformat": 4,
 "nbformat_minor": 2
}
